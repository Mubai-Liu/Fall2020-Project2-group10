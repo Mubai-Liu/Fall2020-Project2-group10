{
 "cells": [
  {
   "cell_type": "code",
   "execution_count": 12,
   "metadata": {},
   "outputs": [],
   "source": [
    "import pandas as pd\n",
    "import numpy as np\n",
    "from datetime import timedelta"
   ]
  },
  {
   "cell_type": "code",
   "execution_count": 23,
   "metadata": {},
   "outputs": [],
   "source": [
    "# Reading in csv files\n",
    "data090120 = pd.read_csv(\"../data/09-01-2020.csv\") # 3165 rows × 900 columns\n",
    "\n",
    "# Extracting subset based on states\n",
    "states = ['Massachusetts', 'New York', 'Pennsylvania', 'Connecticut', 'Virginia', 'Washington DC', 'New Jersey', \n",
    "'Delaware', 'Rhode Island', 'Maryland', 'West Virginia']\n",
    "week1cleaned = data090120[data090120[\"Province_State\"].isin(states)]\n",
    "\n",
    "# Sorting data in order of Last_Update, Admin2, Province_State\n",
    "week1cleaned.sort_values(['Last_Update', 'Admin2', 'Province_State'], ascending=[True, True, True])\n",
    "\n",
    "# Resetting indices\n",
    "week1cleaned = week1cleaned.reset_index(drop=True)\n",
    "\n",
    "# Subtracting 1 day from datetime\n",
    "week1cleaned['Last_Update'] = week1cleaned['Last_Update'].apply(lambda x: pd.to_datetime(x).date()) - timedelta(days=1)\n",
    "\n",
    "# Loop for extracting and combining week 1 data\n",
    "a = \"../data/09-\"\n",
    "b = [\"02\", \"03\", \"04\", \"05\", \"06\", \"07\"]\n",
    "c = \"-2020.csv\"\n",
    "\n",
    "for i in range(0, 6):\n",
    "    data = pd.read_csv(a + b[i] + c) # 3165 rows × 900 columns\n",
    "    subset = data[data[\"Province_State\"].isin(states)]\n",
    "    subset.sort_values(['Last_Update', 'Admin2', 'Province_State'], ascending=[True, True, True])\n",
    "    subset = subset.reset_index(drop=True)\n",
    "    subset['Last_Update'] = subset['Last_Update'].apply(lambda x: pd.to_datetime(x).date()) - timedelta(days=1)\n",
    "    week1cleaned = pd.concat([week1cleaned,subset])\n",
    "\n",
    "# Resetting indices\n",
    "week1cleaned = week1cleaned.reset_index(drop=True)\n",
    "\n",
    "week1cleaned\n",
    "\n",
    "# Saving subset as .csv file\n",
    "week1cleaned.to_csv (r'../output/week1cleaned.csv', index = False, header=True)"
   ]
  },
  {
   "cell_type": "code",
   "execution_count": null,
   "metadata": {},
   "outputs": [],
   "source": []
  }
 ],
 "metadata": {
  "kernelspec": {
   "display_name": "Python 3",
   "language": "python",
   "name": "python3"
  },
  "language_info": {
   "codemirror_mode": {
    "name": "ipython",
    "version": 3
   },
   "file_extension": ".py",
   "mimetype": "text/x-python",
   "name": "python",
   "nbconvert_exporter": "python",
   "pygments_lexer": "ipython3",
   "version": "3.7.7"
  }
 },
 "nbformat": 4,
 "nbformat_minor": 4
}
