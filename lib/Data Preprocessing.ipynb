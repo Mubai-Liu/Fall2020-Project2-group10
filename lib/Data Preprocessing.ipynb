{
 "cells": [
  {
   "cell_type": "code",
   "execution_count": 40,
   "metadata": {},
   "outputs": [],
   "source": [
    "import pandas as pd\n",
    "import numpy as np"
   ]
  },
  {
   "cell_type": "code",
   "execution_count": 41,
   "metadata": {},
   "outputs": [],
   "source": [
    "# Reading in csv files\n",
    "data090120 = pd.read_csv(\"../data/09-01-2020.csv\") # 3165 rows × 900 columns\n",
    "\n",
    "# Extracting subset based on states\n",
    "states = ['Massachusetts', 'New York', 'Pennsylvania', 'Connecticut', 'Virginia', 'Washington DC', 'New Jersey', \n",
    "'Delaware', 'Rhode Island', 'Maryland', 'West Virginia']\n",
    "subset = data090120[data090120[\"Province_State\"].isin(states)]\n",
    "\n",
    "# Sorting data in order of Last_Update, Admin2, Province_State\n",
    "subset.sort_values(['Last_Update', 'Admin2', 'Province_State'], ascending=[True, True, True])\n",
    "\n",
    "# Resetting indices\n",
    "subset = subset.reset_index(drop=True)\n",
    "\n",
    "# Saving subset as .csv file\n",
    "subset.to_csv (r'../output/090120clean.csv', index = False, header=True)"
   ]
  },
  {
   "cell_type": "code",
   "execution_count": null,
   "metadata": {},
   "outputs": [],
   "source": []
  }
 ],
 "metadata": {
  "kernelspec": {
   "display_name": "Python 3",
   "language": "python",
   "name": "python3"
  },
  "language_info": {
   "codemirror_mode": {
    "name": "ipython",
    "version": 3
   },
   "file_extension": ".py",
   "mimetype": "text/x-python",
   "name": "python",
   "nbconvert_exporter": "python",
   "pygments_lexer": "ipython3",
   "version": "3.7.7"
  }
 },
 "nbformat": 4,
 "nbformat_minor": 4
}
